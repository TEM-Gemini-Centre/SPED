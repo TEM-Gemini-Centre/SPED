{
 "cells": [
  {
   "cell_type": "markdown",
   "id": "7ec2134b-b3cf-4b46-bede-141183b5a8df",
   "metadata": {
    "pycharm": {
     "name": "#%% md\n"
    }
   },
   "source": [
    "# Notebook for preprocessing SPED data"
   ]
  },
  {
   "cell_type": "markdown",
   "id": "2dff6d42-9461-427e-97d2-2e853e7fd2b6",
   "metadata": {
    "pycharm": {
     "name": "#%% md\n"
    }
   },
   "source": [
    "This notebook contains most of the preprocessing steps required for phasemapping in SPED data using either vector matching, neural networks, machine learning, or template matching. It should work with pyxem version >=0.14 (dev) and hyperspy >=0.7.0 (dev).\n",
    "\n",
    "The preprocessing steps are as follows:\n",
    " - Cropping\n",
    " - Centering by fitting a linear descan plane based on center of mass  (COM)\n",
    " - Calibration by averaging estimated scales in two different directions\n",
    " - Rebinning\n",
    " - Preparation of masks to be stored in metadata\n",
    " \n",
    "The results/steps from the centering and the masks are stored in the metadata field `signal.metadata.Preprocessing`.\n",
    "\n",
    "The only step not performed is normalization. The reason for this is that this step requires the dataset to be converted to `float32`, which is about four times as large as the `uint16` or two times as large as the `uint32` raw datasets. Hence, methods that require normalization should peform those locally in order to reduce storage requirements and file transfer rates and times."
   ]
  },
  {
   "cell_type": "code",
   "execution_count": 1,
   "id": "c62d2974-239e-44fb-90cf-bca35720d277",
   "metadata": {
    "tags": [],
    "pycharm": {
     "name": "#%%\n"
    }
   },
   "outputs": [
    {
     "name": "stdout",
     "output_type": "stream",
     "text": [
      "Using matplotlib backend: Qt5Agg\n"
     ]
    },
    {
     "name": "stderr",
     "output_type": "stream",
     "text": [
      "WARNING:silx.opencl.common:Unable to import pyOpenCl. Please install it from: https://pypi.org/project/pyopencl\n"
     ]
    }
   ],
   "source": [
    "%matplotlib\n",
    "%config IPCompleter.use_jedi=False\n",
    "import hyperspy.api as hs\n",
    "import pyxem as pxm\n",
    "import numpy as np\n",
    "import matplotlib.pyplot as plt\n",
    "from matplotlib.colors import SymLogNorm\n",
    "from pathlib import Path\n",
    "from skimage.feature import blob_dog, blob_log, blob_doh"
   ]
  },
  {
   "cell_type": "markdown",
   "id": "64c61767-6c27-4f3e-af8d-852a0a7d7af1",
   "metadata": {
    "pycharm": {
     "name": "#%% md\n"
    }
   },
   "source": [
    "# Loading raw data"
   ]
  },
  {
   "cell_type": "code",
   "execution_count": 2,
   "id": "e2284bf2-261a-4f0d-b0e4-31b30d05862b",
   "metadata": {
    "pycharm": {
     "name": "#%%\n"
    }
   },
   "outputs": [
    {
     "name": "stderr",
     "output_type": "stream",
     "text": [
      "/home/emilc/miniconda3/envs/pyxem-dev/lib/python3.10/site-packages/hyperspy/misc/utils.py:468: VisibleDeprecationWarning: Use of the `binned` attribute in metadata is going to be deprecated in v2.0. Set the `axis.is_binned` attribute instead. \n",
      "  warnings.warn(\n",
      "/home/emilc/miniconda3/envs/pyxem-dev/lib/python3.10/site-packages/hyperspy/io.py:560: VisibleDeprecationWarning: Loading old file version. The binned attribute has been moved from metadata.Signal to axis.is_binned. Setting this attribute for all signal axes instead.\n",
      "  warnings.warn('Loading old file version. The binned attribute '\n"
     ]
    }
   ],
   "source": [
    "data_path = Path(r'2021_10_06_2xxx_24h_250C/Site2/SPED_600x600x12_10x10_4p63x4p63_1deg_100Hz_CL12cm_NBD_alpha5_spot1p3.hspy')\n",
    "signal = hs.load(data_path, lazy=True)"
   ]
  },
  {
   "cell_type": "markdown",
   "id": "31e8181f-0f79-4d4f-8ef6-4bb242b7838e",
   "metadata": {
    "pycharm": {
     "name": "#%% md\n"
    }
   },
   "source": [
    "## Crop the data"
   ]
  },
  {
   "cell_type": "code",
   "execution_count": 3,
   "id": "b33dfde0-f050-4a8c-aa1e-d69be7aad991",
   "metadata": {
    "pycharm": {
     "name": "#%%\n"
    }
   },
   "outputs": [],
   "source": [
    "signal = signal.inav[0:512, 0:512]"
   ]
  },
  {
   "cell_type": "markdown",
   "id": "039ec0d3-e5c2-4ec8-82a1-740fae34213d",
   "metadata": {
    "pycharm": {
     "name": "#%% md\n"
    }
   },
   "source": [
    "## Centering"
   ]
  },
  {
   "cell_type": "markdown",
   "id": "44531df7-2934-4c7f-a41c-74892b54fa9d",
   "metadata": {
    "pycharm": {
     "name": "#%% md\n"
    }
   },
   "source": [
    "Plot the maximum to get an idea of all the reflections through the dataset, including the travel of the direct beam. Adjust the ROI to include __only__ the direct beam (or at least not too many other reflections) - this will be used for calculating the COM that will be used when fitting a linear descan slope/plane later on"
   ]
  },
  {
   "cell_type": "code",
   "execution_count": 6,
   "id": "b4fb1f62-2399-461c-9039-e31a57a0a899",
   "metadata": {
    "pycharm": {
     "name": "#%%\n"
    }
   },
   "outputs": [
    {
     "name": "stdout",
     "output_type": "stream",
     "text": [
      "[########################################] | 100% Completed |  2min 23.2s\n"
     ]
    }
   ],
   "source": [
    "maximums = signal.max(axis=[0, 1])\n",
    "maximums.compute()"
   ]
  },
  {
   "cell_type": "code",
   "execution_count": 7,
   "id": "da17dc7e-9d18-4372-802d-d4981b917dc9",
   "metadata": {
    "pycharm": {
     "name": "#%%\n"
    }
   },
   "outputs": [
    {
     "data": {
      "text/plain": [
       "<hyperspy.drawing._widgets.circle.CircleWidget at 0x7f9a4eb74820>"
      ]
     },
     "execution_count": 7,
     "metadata": {},
     "output_type": "execute_result"
    }
   ],
   "source": [
    "maximums.plot(norm='symlog')\n",
    "roi = hs.roi.CircleROI(0, 0, 0.05)\n",
    "roi.add_widget(maximums)"
   ]
  },
  {
   "cell_type": "markdown",
   "id": "d8113cd4-4d25-4901-b26f-355c69473d8d",
   "metadata": {
    "pycharm": {
     "name": "#%% md\n"
    }
   },
   "source": [
    "Convert the ROI parameters to unitless coordinates"
   ]
  },
  {
   "cell_type": "code",
   "execution_count": 11,
   "id": "9569db79-9388-443c-8cdc-f21f281527fe",
   "metadata": {
    "pycharm": {
     "name": "#%%\n"
    }
   },
   "outputs": [
    {
     "name": "stdout",
     "output_type": "stream",
     "text": [
      "I will look for COM within 12.50000001 pixels from (127.0, 125.99999999999999)\n"
     ]
    }
   ],
   "source": [
    "x = (roi.cx - maximums.axes_manager[0].offset) / maximums.axes_manager[0].scale\n",
    "y = (roi.cy - maximums.axes_manager[1].offset) / maximums.axes_manager[1].scale\n",
    "r = roi.r / maximums.axes_manager[0].scale\n",
    "print(f'I will look for COM within {r} pixels from ({x}, {y})')"
   ]
  },
  {
   "cell_type": "markdown",
   "id": "c3e9e028-22d0-495c-8ff8-4a6ab683336e",
   "metadata": {
    "pycharm": {
     "name": "#%% md\n"
    }
   },
   "source": [
    "Calculate the Centre of mass (COM) within the region defined by the ROI"
   ]
  },
  {
   "cell_type": "code",
   "execution_count": 12,
   "id": "9ffc0e2b-cc36-43b8-a736-842f8e42645f",
   "metadata": {
    "pycharm": {
     "name": "#%%\n"
    }
   },
   "outputs": [
    {
     "name": "stdout",
     "output_type": "stream",
     "text": [
      "[########################################] | 100% Completed |  4min 46.6s\n"
     ]
    }
   ],
   "source": [
    "com = signal.center_of_mass(mask=(x, y, r))\n",
    "com.plot()\n",
    "com.get_bivariate_histogram().plot()"
   ]
  },
  {
   "cell_type": "markdown",
   "id": "9f8e6b9a-52b0-4886-8b71-5f9a1abc4b90",
   "metadata": {
    "pycharm": {
     "name": "#%% md\n"
    }
   },
   "source": [
    "Calculate the beam shift by estimating a linear plane"
   ]
  },
  {
   "cell_type": "code",
   "execution_count": 38,
   "id": "2eec71ca-2a2a-4efd-a2a8-f111d0fbdacb",
   "metadata": {
    "pycharm": {
     "name": "#%%\n"
    }
   },
   "outputs": [],
   "source": [
    "beam_shift = pxm.signals.BeamShift(com.T)\n",
    "mask = hs.signals.Signal2D(np.zeros(signal.axes_manager.navigation_shape, dtype=bool).T).T\n",
    "mask.inav[20:-20, 20:-20] = True\n",
    "beam_shift.make_linear_plane(mask=mask)\n",
    "beam_shift = beam_shift - (signal.axes_manager.signal_shape[0]//2) #shift the beam to the center of the diffraction patterns\n",
    "beam_shift.plot()"
   ]
  },
  {
   "cell_type": "markdown",
   "id": "195a2586-aba1-4279-a7c9-06297e68ad1c",
   "metadata": {
    "pycharm": {
     "name": "#%% md\n"
    }
   },
   "source": [
    "Shift the diffraction patterns"
   ]
  },
  {
   "cell_type": "code",
   "execution_count": 39,
   "id": "9783d518-afda-4361-9554-50df933ce18d",
   "metadata": {
    "pycharm": {
     "name": "#%%\n"
    }
   },
   "outputs": [],
   "source": [
    "shifted_s = signal.shift_diffraction(beam_shift.isig[0], beam_shift.isig[1])"
   ]
  },
  {
   "cell_type": "markdown",
   "id": "84314975-7db7-4eb0-a04f-5aa5bcb237e9",
   "metadata": {
    "pycharm": {
     "name": "#%% md\n"
    }
   },
   "source": [
    "Update the metadata"
   ]
  },
  {
   "cell_type": "code",
   "execution_count": 49,
   "id": "f813372a-e8e7-4715-8c24-11dc0e694100",
   "metadata": {
    "pycharm": {
     "name": "#%%\n"
    }
   },
   "outputs": [],
   "source": [
    "shifted_s.metadata.add_dictionary({'Preprocessing':{'Centering': {'COM': {'COM': com, 'Mask': {'x': x, 'y': y, 'r':r}}, 'shifts': beam_shift, 'shift_estimate_mask': mask}}})\n",
    "shifted_s.metadata"
   ]
  },
  {
   "cell_type": "markdown",
   "id": "c92dbecb-8e1b-4d3d-a319-53566e9b4fbb",
   "metadata": {
    "pycharm": {
     "name": "#%% md\n"
    }
   },
   "source": [
    "Make a smaller signal (taking every 8th pixel) to inspect the centering"
   ]
  },
  {
   "cell_type": "code",
   "execution_count": 42,
   "id": "4c7f7fa7-a9ee-4da2-a1dc-24a53c728994",
   "metadata": {
    "pycharm": {
     "name": "#%%\n"
    }
   },
   "outputs": [],
   "source": [
    "s = shifted_s.inav[0::8, 0::8]\n",
    "s.compute()"
   ]
  },
  {
   "cell_type": "markdown",
   "id": "0086018d-fcca-4e8f-92f2-5ed59da81c3a",
   "metadata": {
    "pycharm": {
     "name": "#%% md\n"
    }
   },
   "source": [
    "Plot the small signal"
   ]
  },
  {
   "cell_type": "code",
   "execution_count": 45,
   "id": "b8954d62-561b-4290-8052-4d97de6e1206",
   "metadata": {
    "pycharm": {
     "name": "#%%\n"
    }
   },
   "outputs": [],
   "source": [
    "s.plot(norm='symlog')"
   ]
  },
  {
   "cell_type": "markdown",
   "id": "2848dfd6-2833-467f-acaa-8bd059e16d0b",
   "metadata": {
    "pycharm": {
     "name": "#%% md\n"
    }
   },
   "source": [
    "## Calibration"
   ]
  },
  {
   "cell_type": "markdown",
   "id": "cb8685c9-2450-43d7-a7e0-1baee974d688",
   "metadata": {
    "pycharm": {
     "name": "#%% md\n"
    }
   },
   "source": [
    "Plot the signal, and navigate to a pixel with an easily identifiable diffraction pattern"
   ]
  },
  {
   "cell_type": "code",
   "execution_count": 16,
   "id": "3ad94b0e-1b59-43ad-add2-4777f2e60496",
   "metadata": {
    "pycharm": {
     "name": "#%%\n"
    }
   },
   "outputs": [
    {
     "name": "stdout",
     "output_type": "stream",
     "text": [
      "[########################################] | 100% Completed |  2.7s\n"
     ]
    }
   ],
   "source": [
    "signal.plot(norm='symlog')"
   ]
  },
  {
   "cell_type": "markdown",
   "id": "4ec81f61-a6b4-4a3d-9c77-659bb7324652",
   "metadata": {
    "pycharm": {
     "name": "#%% md\n"
    }
   },
   "source": [
    "Plot the image at the current position and add two ROIs. Adjust the ROIs to measure the __same__ g-spacing but in different directions."
   ]
  },
  {
   "cell_type": "code",
   "execution_count": 17,
   "id": "c1b51c51-de58-4428-873b-9275acab66c2",
   "metadata": {
    "pycharm": {
     "name": "#%%\n"
    }
   },
   "outputs": [
    {
     "data": {
      "text/plain": [
       "[<hyperspy.drawing._widgets.line2d.Line2DWidget at 0x7f9a5c984580>,\n",
       " <hyperspy.drawing._widgets.line2d.Line2DWidget at 0x7f9a4c10a590>]"
      ]
     },
     "execution_count": 17,
     "metadata": {},
     "output_type": "execute_result"
    }
   ],
   "source": [
    "image = signal.inav[signal.axes_manager.indices]\n",
    "image.plot(norm='symlog')\n",
    "lines = [hs.roi.Line2DROI(*signal.axes_manager.signal_extent) for i in range(2)]\n",
    "[line.add_widget(image) for line in lines]"
   ]
  },
  {
   "cell_type": "markdown",
   "id": "a36c4b7f-5ba6-4759-a676-7c05d8c6a757",
   "metadata": {
    "pycharm": {
     "name": "#%% md\n"
    }
   },
   "source": [
    "Create profiles along the lines adjusted in the previous step, plot them, and add span ROIs to the profile plots. Adjust the span edges to lie in the middle of the g-spacings to measure"
   ]
  },
  {
   "cell_type": "code",
   "execution_count": 18,
   "id": "f0bd83f7-c63e-471c-8b76-4bfdee6b21bf",
   "metadata": {
    "pycharm": {
     "name": "#%%\n"
    }
   },
   "outputs": [
    {
     "data": {
      "text/plain": [
       "[<hyperspy.drawing._widgets.range.RangeWidget at 0x7f9a3c960af0>,\n",
       " <hyperspy.drawing._widgets.range.RangeWidget at 0x7f9a3cb06770>]"
      ]
     },
     "execution_count": 18,
     "metadata": {},
     "output_type": "execute_result"
    }
   ],
   "source": [
    "profiles = [line(image) for line in lines]\n",
    "[profile.plot(norm='log') for profile in profiles]\n",
    "spans = [hs.roi.SpanROI(0, 10) for i in range(2)]\n",
    "[span.add_widget(profile) for (span, profile) in zip(spans, profiles)]"
   ]
  },
  {
   "cell_type": "markdown",
   "id": "c1bdb359-72aa-4aa7-834c-a533d78f5912",
   "metadata": {
    "pycharm": {
     "name": "#%% md\n"
    }
   },
   "source": [
    "Calculate the scale for the different directions. Update the g-spacing details to suit your material."
   ]
  },
  {
   "cell_type": "code",
   "execution_count": 38,
   "id": "39a8e5ce-a018-400d-b70f-40be33b216c7",
   "metadata": {
    "pycharm": {
     "name": "#%%\n"
    }
   },
   "outputs": [
    {
     "name": "stdout",
     "output_type": "stream",
     "text": [
      "Calculated scales for directions: [0.009542553825967675, 0.009496676163342831] $A^{-1}$\n",
      "Average scale: 0.009520 $A^{-1}$\n",
      "Standard deviation: 0.000023 $A^{-1}$\n"
     ]
    }
   ],
   "source": [
    "a = 4.05\n",
    "hkl = np.array([8, 0, 0])\n",
    "g = np.sqrt(np.sum((hkl/a)**2))\n",
    "\n",
    "scales = [g / ((span.right - span.left)/profile.axes_manager[0].scale) for (span, profile) in zip(spans, profiles)]\n",
    "print(f'Calculated scales for directions: {scales} {image.axes_manager[0].units}')\n",
    "print(f'Average scale: {np.mean(scales):.6f} {image.axes_manager[0].units}')\n",
    "print(f'Standard deviation: {np.std(scales):.6f} {image.axes_manager[0].units}')"
   ]
  },
  {
   "cell_type": "markdown",
   "id": "c78bac8f-b957-4261-901e-fbcda1fc4165",
   "metadata": {
    "pycharm": {
     "name": "#%% md\n"
    }
   },
   "source": [
    "Set the scale to be the average of the two scales."
   ]
  },
  {
   "cell_type": "code",
   "execution_count": 39,
   "id": "5ba84bc6-4ab5-4e0c-8475-a82bd8965d12",
   "metadata": {
    "pycharm": {
     "name": "#%%\n"
    }
   },
   "outputs": [],
   "source": [
    "scale = np.mean(scales)\n",
    "shifted_s.set_diffraction_calibration(scale)"
   ]
  },
  {
   "cell_type": "markdown",
   "id": "4770342b-12d1-47b5-9f6d-487429d1e4b5",
   "metadata": {
    "pycharm": {
     "name": "#%% md\n"
    }
   },
   "source": [
    "Check calibration"
   ]
  },
  {
   "cell_type": "code",
   "execution_count": 40,
   "id": "a4511f78-ea61-4774-beba-80d1d1e99568",
   "metadata": {
    "pycharm": {
     "name": "#%%\n"
    }
   },
   "outputs": [],
   "source": [
    "image = shifted_s.inav[signal.axes_manager.indices]"
   ]
  },
  {
   "cell_type": "code",
   "execution_count": 45,
   "id": "33d06a98-41dc-405d-b3f2-211f4afcf7f1",
   "metadata": {
    "pycharm": {
     "name": "#%%\n"
    }
   },
   "outputs": [
    {
     "data": {
      "text/plain": [
       "<hyperspy.drawing._widgets.circle.CircleWidget at 0x7f9a7ac6f580>"
      ]
     },
     "execution_count": 45,
     "metadata": {},
     "output_type": "execute_result"
    }
   ],
   "source": [
    "image.plot(norm='symlog', cmap='inferno')\n",
    "g = np.sqrt(np.sum((np.array([2, 2, 0]) / 4.05)**2))\n",
    "roi = hs.roi.CircleROI(0, 0, g)\n",
    "roi.add_widget(image)"
   ]
  },
  {
   "cell_type": "markdown",
   "id": "0b41c95a-2021-422a-8e3a-bff7d2aace4b",
   "metadata": {
    "tags": [],
    "pycharm": {
     "name": "#%% md\n"
    }
   },
   "source": [
    "## Binning"
   ]
  },
  {
   "cell_type": "markdown",
   "id": "cafb9c34-7f4c-4b8e-a12a-0b84d80a7350",
   "metadata": {
    "pycharm": {
     "name": "#%% md\n"
    }
   },
   "source": [
    "Bin the shifted signal"
   ]
  },
  {
   "cell_type": "code",
   "execution_count": 46,
   "id": "43d83353-1577-41b3-9f39-4bcc8ba1ef81",
   "metadata": {
    "pycharm": {
     "name": "#%%\n"
    }
   },
   "outputs": [],
   "source": [
    "binned_shifted_s = shifted_s.rebin(scale=(1, 1, 2, 2))"
   ]
  },
  {
   "cell_type": "markdown",
   "id": "bc3a80d8-e205-470d-9e2f-3de4a02fa489",
   "metadata": {
    "pycharm": {
     "name": "#%% md\n"
    }
   },
   "source": [
    "## Masking direct beam and reflections"
   ]
  },
  {
   "cell_type": "markdown",
   "id": "12f31bae-1fa2-4074-9e39-a4d5c4d42327",
   "metadata": {
    "pycharm": {
     "name": "#%% md\n"
    }
   },
   "source": [
    "Calculate the maximums"
   ]
  },
  {
   "cell_type": "code",
   "execution_count": 47,
   "id": "c1471066-c191-4262-adc1-c900012a45fe",
   "metadata": {
    "pycharm": {
     "name": "#%%\n"
    }
   },
   "outputs": [
    {
     "name": "stdout",
     "output_type": "stream",
     "text": [
      "[###                                     ] | 8% Completed | 19.0s\n"
     ]
    },
    {
     "ename": "KeyboardInterrupt",
     "evalue": "",
     "output_type": "error",
     "traceback": [
      "\u001B[0;31m---------------------------------------------------------------------------\u001B[0m",
      "\u001B[0;31mKeyboardInterrupt\u001B[0m                         Traceback (most recent call last)",
      "Input \u001B[0;32mIn [47]\u001B[0m, in \u001B[0;36m<cell line: 2>\u001B[0;34m()\u001B[0m\n\u001B[1;32m      1\u001B[0m maximums \u001B[38;5;241m=\u001B[39m binned_shifted_s\u001B[38;5;241m.\u001B[39mmax(axis\u001B[38;5;241m=\u001B[39m[\u001B[38;5;241m0\u001B[39m, \u001B[38;5;241m1\u001B[39m])\n\u001B[0;32m----> 2\u001B[0m \u001B[43mmaximums\u001B[49m\u001B[38;5;241;43m.\u001B[39;49m\u001B[43mcompute\u001B[49m\u001B[43m(\u001B[49m\u001B[43m)\u001B[49m\n",
      "File \u001B[0;32m~/miniconda3/envs/pyxem-dev/lib/python3.10/site-packages/hyperspy/_signals/lazy.py:265\u001B[0m, in \u001B[0;36mLazySignal.compute\u001B[0;34m(self, close_file, show_progressbar, **kwargs)\u001B[0m\n\u001B[1;32m    263\u001B[0m \u001B[38;5;28;01mwith\u001B[39;00m cm():\n\u001B[1;32m    264\u001B[0m     da \u001B[38;5;241m=\u001B[39m \u001B[38;5;28mself\u001B[39m\u001B[38;5;241m.\u001B[39mdata\n\u001B[0;32m--> 265\u001B[0m     data \u001B[38;5;241m=\u001B[39m \u001B[43mda\u001B[49m\u001B[38;5;241;43m.\u001B[39;49m\u001B[43mcompute\u001B[49m\u001B[43m(\u001B[49m\u001B[43m)\u001B[49m\n\u001B[1;32m    266\u001B[0m     \u001B[38;5;28;01mif\u001B[39;00m close_file:\n\u001B[1;32m    267\u001B[0m         \u001B[38;5;28mself\u001B[39m\u001B[38;5;241m.\u001B[39mclose_file()\n",
      "File \u001B[0;32m~/miniconda3/envs/pyxem-dev/lib/python3.10/site-packages/dask/base.py:292\u001B[0m, in \u001B[0;36mDaskMethodsMixin.compute\u001B[0;34m(self, **kwargs)\u001B[0m\n\u001B[1;32m    268\u001B[0m \u001B[38;5;28;01mdef\u001B[39;00m \u001B[38;5;21mcompute\u001B[39m(\u001B[38;5;28mself\u001B[39m, \u001B[38;5;241m*\u001B[39m\u001B[38;5;241m*\u001B[39mkwargs):\n\u001B[1;32m    269\u001B[0m     \u001B[38;5;124;03m\"\"\"Compute this dask collection\u001B[39;00m\n\u001B[1;32m    270\u001B[0m \n\u001B[1;32m    271\u001B[0m \u001B[38;5;124;03m    This turns a lazy Dask collection into its in-memory equivalent.\u001B[39;00m\n\u001B[0;32m   (...)\u001B[0m\n\u001B[1;32m    290\u001B[0m \u001B[38;5;124;03m    dask.base.compute\u001B[39;00m\n\u001B[1;32m    291\u001B[0m \u001B[38;5;124;03m    \"\"\"\u001B[39;00m\n\u001B[0;32m--> 292\u001B[0m     (result,) \u001B[38;5;241m=\u001B[39m \u001B[43mcompute\u001B[49m\u001B[43m(\u001B[49m\u001B[38;5;28;43mself\u001B[39;49m\u001B[43m,\u001B[49m\u001B[43m \u001B[49m\u001B[43mtraverse\u001B[49m\u001B[38;5;241;43m=\u001B[39;49m\u001B[38;5;28;43;01mFalse\u001B[39;49;00m\u001B[43m,\u001B[49m\u001B[43m \u001B[49m\u001B[38;5;241;43m*\u001B[39;49m\u001B[38;5;241;43m*\u001B[39;49m\u001B[43mkwargs\u001B[49m\u001B[43m)\u001B[49m\n\u001B[1;32m    293\u001B[0m     \u001B[38;5;28;01mreturn\u001B[39;00m result\n",
      "File \u001B[0;32m~/miniconda3/envs/pyxem-dev/lib/python3.10/site-packages/dask/base.py:575\u001B[0m, in \u001B[0;36mcompute\u001B[0;34m(traverse, optimize_graph, scheduler, get, *args, **kwargs)\u001B[0m\n\u001B[1;32m    572\u001B[0m     keys\u001B[38;5;241m.\u001B[39mappend(x\u001B[38;5;241m.\u001B[39m__dask_keys__())\n\u001B[1;32m    573\u001B[0m     postcomputes\u001B[38;5;241m.\u001B[39mappend(x\u001B[38;5;241m.\u001B[39m__dask_postcompute__())\n\u001B[0;32m--> 575\u001B[0m results \u001B[38;5;241m=\u001B[39m \u001B[43mschedule\u001B[49m\u001B[43m(\u001B[49m\u001B[43mdsk\u001B[49m\u001B[43m,\u001B[49m\u001B[43m \u001B[49m\u001B[43mkeys\u001B[49m\u001B[43m,\u001B[49m\u001B[43m \u001B[49m\u001B[38;5;241;43m*\u001B[39;49m\u001B[38;5;241;43m*\u001B[39;49m\u001B[43mkwargs\u001B[49m\u001B[43m)\u001B[49m\n\u001B[1;32m    576\u001B[0m \u001B[38;5;28;01mreturn\u001B[39;00m repack([f(r, \u001B[38;5;241m*\u001B[39ma) \u001B[38;5;28;01mfor\u001B[39;00m r, (f, a) \u001B[38;5;129;01min\u001B[39;00m \u001B[38;5;28mzip\u001B[39m(results, postcomputes)])\n",
      "File \u001B[0;32m~/miniconda3/envs/pyxem-dev/lib/python3.10/site-packages/dask/threaded.py:81\u001B[0m, in \u001B[0;36mget\u001B[0;34m(dsk, result, cache, num_workers, pool, **kwargs)\u001B[0m\n\u001B[1;32m     78\u001B[0m     \u001B[38;5;28;01melif\u001B[39;00m \u001B[38;5;28misinstance\u001B[39m(pool, multiprocessing\u001B[38;5;241m.\u001B[39mpool\u001B[38;5;241m.\u001B[39mPool):\n\u001B[1;32m     79\u001B[0m         pool \u001B[38;5;241m=\u001B[39m MultiprocessingPoolExecutor(pool)\n\u001B[0;32m---> 81\u001B[0m results \u001B[38;5;241m=\u001B[39m \u001B[43mget_async\u001B[49m\u001B[43m(\u001B[49m\n\u001B[1;32m     82\u001B[0m \u001B[43m    \u001B[49m\u001B[43mpool\u001B[49m\u001B[38;5;241;43m.\u001B[39;49m\u001B[43msubmit\u001B[49m\u001B[43m,\u001B[49m\n\u001B[1;32m     83\u001B[0m \u001B[43m    \u001B[49m\u001B[43mpool\u001B[49m\u001B[38;5;241;43m.\u001B[39;49m\u001B[43m_max_workers\u001B[49m\u001B[43m,\u001B[49m\n\u001B[1;32m     84\u001B[0m \u001B[43m    \u001B[49m\u001B[43mdsk\u001B[49m\u001B[43m,\u001B[49m\n\u001B[1;32m     85\u001B[0m \u001B[43m    \u001B[49m\u001B[43mresult\u001B[49m\u001B[43m,\u001B[49m\n\u001B[1;32m     86\u001B[0m \u001B[43m    \u001B[49m\u001B[43mcache\u001B[49m\u001B[38;5;241;43m=\u001B[39;49m\u001B[43mcache\u001B[49m\u001B[43m,\u001B[49m\n\u001B[1;32m     87\u001B[0m \u001B[43m    \u001B[49m\u001B[43mget_id\u001B[49m\u001B[38;5;241;43m=\u001B[39;49m\u001B[43m_thread_get_id\u001B[49m\u001B[43m,\u001B[49m\n\u001B[1;32m     88\u001B[0m \u001B[43m    \u001B[49m\u001B[43mpack_exception\u001B[49m\u001B[38;5;241;43m=\u001B[39;49m\u001B[43mpack_exception\u001B[49m\u001B[43m,\u001B[49m\n\u001B[1;32m     89\u001B[0m \u001B[43m    \u001B[49m\u001B[38;5;241;43m*\u001B[39;49m\u001B[38;5;241;43m*\u001B[39;49m\u001B[43mkwargs\u001B[49m\u001B[43m,\u001B[49m\n\u001B[1;32m     90\u001B[0m \u001B[43m\u001B[49m\u001B[43m)\u001B[49m\n\u001B[1;32m     92\u001B[0m \u001B[38;5;66;03m# Cleanup pools associated to dead threads\u001B[39;00m\n\u001B[1;32m     93\u001B[0m \u001B[38;5;28;01mwith\u001B[39;00m pools_lock:\n",
      "File \u001B[0;32m~/miniconda3/envs/pyxem-dev/lib/python3.10/site-packages/dask/local.py:497\u001B[0m, in \u001B[0;36mget_async\u001B[0;34m(submit, num_workers, dsk, result, cache, get_id, rerun_exceptions_locally, pack_exception, raise_exception, callbacks, dumps, loads, chunksize, **kwargs)\u001B[0m\n\u001B[1;32m    495\u001B[0m \u001B[38;5;28;01mwhile\u001B[39;00m state[\u001B[38;5;124m\"\u001B[39m\u001B[38;5;124mwaiting\u001B[39m\u001B[38;5;124m\"\u001B[39m] \u001B[38;5;129;01mor\u001B[39;00m state[\u001B[38;5;124m\"\u001B[39m\u001B[38;5;124mready\u001B[39m\u001B[38;5;124m\"\u001B[39m] \u001B[38;5;129;01mor\u001B[39;00m state[\u001B[38;5;124m\"\u001B[39m\u001B[38;5;124mrunning\u001B[39m\u001B[38;5;124m\"\u001B[39m]:\n\u001B[1;32m    496\u001B[0m     fire_tasks(chunksize)\n\u001B[0;32m--> 497\u001B[0m     \u001B[38;5;28;01mfor\u001B[39;00m key, res_info, failed \u001B[38;5;129;01min\u001B[39;00m \u001B[43mqueue_get\u001B[49m\u001B[43m(\u001B[49m\u001B[43mqueue\u001B[49m\u001B[43m)\u001B[49m\u001B[38;5;241m.\u001B[39mresult():\n\u001B[1;32m    498\u001B[0m         \u001B[38;5;28;01mif\u001B[39;00m failed:\n\u001B[1;32m    499\u001B[0m             exc, tb \u001B[38;5;241m=\u001B[39m loads(res_info)\n",
      "File \u001B[0;32m~/miniconda3/envs/pyxem-dev/lib/python3.10/site-packages/dask/local.py:134\u001B[0m, in \u001B[0;36mqueue_get\u001B[0;34m(q)\u001B[0m\n\u001B[1;32m    133\u001B[0m \u001B[38;5;28;01mdef\u001B[39;00m \u001B[38;5;21mqueue_get\u001B[39m(q):\n\u001B[0;32m--> 134\u001B[0m     \u001B[38;5;28;01mreturn\u001B[39;00m \u001B[43mq\u001B[49m\u001B[38;5;241;43m.\u001B[39;49m\u001B[43mget\u001B[49m\u001B[43m(\u001B[49m\u001B[43m)\u001B[49m\n",
      "File \u001B[0;32m~/miniconda3/envs/pyxem-dev/lib/python3.10/queue.py:171\u001B[0m, in \u001B[0;36mQueue.get\u001B[0;34m(self, block, timeout)\u001B[0m\n\u001B[1;32m    169\u001B[0m \u001B[38;5;28;01melif\u001B[39;00m timeout \u001B[38;5;129;01mis\u001B[39;00m \u001B[38;5;28;01mNone\u001B[39;00m:\n\u001B[1;32m    170\u001B[0m     \u001B[38;5;28;01mwhile\u001B[39;00m \u001B[38;5;129;01mnot\u001B[39;00m \u001B[38;5;28mself\u001B[39m\u001B[38;5;241m.\u001B[39m_qsize():\n\u001B[0;32m--> 171\u001B[0m         \u001B[38;5;28;43mself\u001B[39;49m\u001B[38;5;241;43m.\u001B[39;49m\u001B[43mnot_empty\u001B[49m\u001B[38;5;241;43m.\u001B[39;49m\u001B[43mwait\u001B[49m\u001B[43m(\u001B[49m\u001B[43m)\u001B[49m\n\u001B[1;32m    172\u001B[0m \u001B[38;5;28;01melif\u001B[39;00m timeout \u001B[38;5;241m<\u001B[39m \u001B[38;5;241m0\u001B[39m:\n\u001B[1;32m    173\u001B[0m     \u001B[38;5;28;01mraise\u001B[39;00m \u001B[38;5;167;01mValueError\u001B[39;00m(\u001B[38;5;124m\"\u001B[39m\u001B[38;5;124m'\u001B[39m\u001B[38;5;124mtimeout\u001B[39m\u001B[38;5;124m'\u001B[39m\u001B[38;5;124m must be a non-negative number\u001B[39m\u001B[38;5;124m\"\u001B[39m)\n",
      "File \u001B[0;32m~/miniconda3/envs/pyxem-dev/lib/python3.10/threading.py:320\u001B[0m, in \u001B[0;36mCondition.wait\u001B[0;34m(self, timeout)\u001B[0m\n\u001B[1;32m    318\u001B[0m \u001B[38;5;28;01mtry\u001B[39;00m:    \u001B[38;5;66;03m# restore state no matter what (e.g., KeyboardInterrupt)\u001B[39;00m\n\u001B[1;32m    319\u001B[0m     \u001B[38;5;28;01mif\u001B[39;00m timeout \u001B[38;5;129;01mis\u001B[39;00m \u001B[38;5;28;01mNone\u001B[39;00m:\n\u001B[0;32m--> 320\u001B[0m         \u001B[43mwaiter\u001B[49m\u001B[38;5;241;43m.\u001B[39;49m\u001B[43macquire\u001B[49m\u001B[43m(\u001B[49m\u001B[43m)\u001B[49m\n\u001B[1;32m    321\u001B[0m         gotit \u001B[38;5;241m=\u001B[39m \u001B[38;5;28;01mTrue\u001B[39;00m\n\u001B[1;32m    322\u001B[0m     \u001B[38;5;28;01melse\u001B[39;00m:\n",
      "\u001B[0;31mKeyboardInterrupt\u001B[0m: "
     ]
    }
   ],
   "source": [
    "maximums = binned_shifted_s.max(axis=[0, 1])\n",
    "maximums.compute()"
   ]
  },
  {
   "cell_type": "markdown",
   "id": "d6eed705-9fe2-4e3d-9536-22a44a0d8331",
   "metadata": {
    "pycharm": {
     "name": "#%% md\n"
    }
   },
   "source": [
    "Plot the data and navigate to a pure phase you want to mask out"
   ]
  },
  {
   "cell_type": "code",
   "execution_count": 48,
   "id": "78b001a9-24c9-49bb-b046-685d77e25484",
   "metadata": {
    "pycharm": {
     "name": "#%%\n"
    }
   },
   "outputs": [
    {
     "name": "stdout",
     "output_type": "stream",
     "text": [
      "[##                                      ] | 7% Completed | 14.8s\n"
     ]
    },
    {
     "ename": "KeyboardInterrupt",
     "evalue": "",
     "output_type": "error",
     "traceback": [
      "\u001B[0;31m---------------------------------------------------------------------------\u001B[0m",
      "\u001B[0;31mKeyboardInterrupt\u001B[0m                         Traceback (most recent call last)",
      "Input \u001B[0;32mIn [48]\u001B[0m, in \u001B[0;36m<cell line: 1>\u001B[0;34m()\u001B[0m\n\u001B[0;32m----> 1\u001B[0m \u001B[43mbinned_shifted_s\u001B[49m\u001B[38;5;241;43m.\u001B[39;49m\u001B[43mplot\u001B[49m\u001B[43m(\u001B[49m\u001B[43mnorm\u001B[49m\u001B[38;5;241;43m=\u001B[39;49m\u001B[38;5;124;43m'\u001B[39;49m\u001B[38;5;124;43msymlog\u001B[39;49m\u001B[38;5;124;43m'\u001B[39;49m\u001B[43m)\u001B[49m\n",
      "File \u001B[0;32m~/miniconda3/envs/pyxem-dev/lib/python3.10/site-packages/hyperspy/_signals/lazy.py:1228\u001B[0m, in \u001B[0;36mLazySignal.plot\u001B[0;34m(self, navigator, **kwargs)\u001B[0m\n\u001B[1;32m   1226\u001B[0m \u001B[38;5;28;01mif\u001B[39;00m nav_dim \u001B[38;5;129;01min\u001B[39;00m [\u001B[38;5;241m1\u001B[39m, \u001B[38;5;241m2\u001B[39m]:\n\u001B[1;32m   1227\u001B[0m     \u001B[38;5;28;01mif\u001B[39;00m \u001B[38;5;28mself\u001B[39m\u001B[38;5;241m.\u001B[39mnavigator \u001B[38;5;129;01mis\u001B[39;00m \u001B[38;5;28;01mNone\u001B[39;00m:\n\u001B[0;32m-> 1228\u001B[0m         \u001B[38;5;28;43mself\u001B[39;49m\u001B[38;5;241;43m.\u001B[39;49m\u001B[43mcompute_navigator\u001B[49m\u001B[43m(\u001B[49m\u001B[43m)\u001B[49m\n\u001B[1;32m   1229\u001B[0m     navigator \u001B[38;5;241m=\u001B[39m \u001B[38;5;28mself\u001B[39m\u001B[38;5;241m.\u001B[39mnavigator\n\u001B[1;32m   1230\u001B[0m \u001B[38;5;28;01melif\u001B[39;00m nav_dim \u001B[38;5;241m>\u001B[39m \u001B[38;5;241m2\u001B[39m:\n",
      "File \u001B[0;32m~/miniconda3/envs/pyxem-dev/lib/python3.10/site-packages/hyperspy/_signals/lazy.py:1309\u001B[0m, in \u001B[0;36mLazySignal.compute_navigator\u001B[0;34m(self, index, chunks_number, show_progressbar)\u001B[0m\n\u001B[1;32m   1307\u001B[0m axes \u001B[38;5;241m=\u001B[39m [axis\u001B[38;5;241m.\u001B[39mindex_in_array \u001B[38;5;28;01mfor\u001B[39;00m axis \u001B[38;5;129;01min\u001B[39;00m \u001B[38;5;28mself\u001B[39m\u001B[38;5;241m.\u001B[39maxes_manager\u001B[38;5;241m.\u001B[39msignal_axes]\n\u001B[1;32m   1308\u001B[0m navigator \u001B[38;5;241m=\u001B[39m \u001B[38;5;28mself\u001B[39m\u001B[38;5;241m.\u001B[39misig[isig_slice]\u001B[38;5;241m.\u001B[39msum(axes)\n\u001B[0;32m-> 1309\u001B[0m \u001B[43mnavigator\u001B[49m\u001B[38;5;241;43m.\u001B[39;49m\u001B[43mcompute\u001B[49m\u001B[43m(\u001B[49m\u001B[43mshow_progressbar\u001B[49m\u001B[38;5;241;43m=\u001B[39;49m\u001B[43mshow_progressbar\u001B[49m\u001B[43m)\u001B[49m\n\u001B[1;32m   1310\u001B[0m navigator\u001B[38;5;241m.\u001B[39moriginal_metadata\u001B[38;5;241m.\u001B[39mset_item(\u001B[38;5;124m'\u001B[39m\u001B[38;5;124msum_from\u001B[39m\u001B[38;5;124m'\u001B[39m, \u001B[38;5;28mstr\u001B[39m(isig_slice))\n\u001B[1;32m   1312\u001B[0m \u001B[38;5;28mself\u001B[39m\u001B[38;5;241m.\u001B[39mnavigator \u001B[38;5;241m=\u001B[39m navigator\u001B[38;5;241m.\u001B[39mT\n",
      "File \u001B[0;32m~/miniconda3/envs/pyxem-dev/lib/python3.10/site-packages/hyperspy/_signals/lazy.py:265\u001B[0m, in \u001B[0;36mLazySignal.compute\u001B[0;34m(self, close_file, show_progressbar, **kwargs)\u001B[0m\n\u001B[1;32m    263\u001B[0m \u001B[38;5;28;01mwith\u001B[39;00m cm():\n\u001B[1;32m    264\u001B[0m     da \u001B[38;5;241m=\u001B[39m \u001B[38;5;28mself\u001B[39m\u001B[38;5;241m.\u001B[39mdata\n\u001B[0;32m--> 265\u001B[0m     data \u001B[38;5;241m=\u001B[39m \u001B[43mda\u001B[49m\u001B[38;5;241;43m.\u001B[39;49m\u001B[43mcompute\u001B[49m\u001B[43m(\u001B[49m\u001B[43m)\u001B[49m\n\u001B[1;32m    266\u001B[0m     \u001B[38;5;28;01mif\u001B[39;00m close_file:\n\u001B[1;32m    267\u001B[0m         \u001B[38;5;28mself\u001B[39m\u001B[38;5;241m.\u001B[39mclose_file()\n",
      "File \u001B[0;32m~/miniconda3/envs/pyxem-dev/lib/python3.10/site-packages/dask/base.py:292\u001B[0m, in \u001B[0;36mDaskMethodsMixin.compute\u001B[0;34m(self, **kwargs)\u001B[0m\n\u001B[1;32m    268\u001B[0m \u001B[38;5;28;01mdef\u001B[39;00m \u001B[38;5;21mcompute\u001B[39m(\u001B[38;5;28mself\u001B[39m, \u001B[38;5;241m*\u001B[39m\u001B[38;5;241m*\u001B[39mkwargs):\n\u001B[1;32m    269\u001B[0m     \u001B[38;5;124;03m\"\"\"Compute this dask collection\u001B[39;00m\n\u001B[1;32m    270\u001B[0m \n\u001B[1;32m    271\u001B[0m \u001B[38;5;124;03m    This turns a lazy Dask collection into its in-memory equivalent.\u001B[39;00m\n\u001B[0;32m   (...)\u001B[0m\n\u001B[1;32m    290\u001B[0m \u001B[38;5;124;03m    dask.base.compute\u001B[39;00m\n\u001B[1;32m    291\u001B[0m \u001B[38;5;124;03m    \"\"\"\u001B[39;00m\n\u001B[0;32m--> 292\u001B[0m     (result,) \u001B[38;5;241m=\u001B[39m \u001B[43mcompute\u001B[49m\u001B[43m(\u001B[49m\u001B[38;5;28;43mself\u001B[39;49m\u001B[43m,\u001B[49m\u001B[43m \u001B[49m\u001B[43mtraverse\u001B[49m\u001B[38;5;241;43m=\u001B[39;49m\u001B[38;5;28;43;01mFalse\u001B[39;49;00m\u001B[43m,\u001B[49m\u001B[43m \u001B[49m\u001B[38;5;241;43m*\u001B[39;49m\u001B[38;5;241;43m*\u001B[39;49m\u001B[43mkwargs\u001B[49m\u001B[43m)\u001B[49m\n\u001B[1;32m    293\u001B[0m     \u001B[38;5;28;01mreturn\u001B[39;00m result\n",
      "File \u001B[0;32m~/miniconda3/envs/pyxem-dev/lib/python3.10/site-packages/dask/base.py:575\u001B[0m, in \u001B[0;36mcompute\u001B[0;34m(traverse, optimize_graph, scheduler, get, *args, **kwargs)\u001B[0m\n\u001B[1;32m    572\u001B[0m     keys\u001B[38;5;241m.\u001B[39mappend(x\u001B[38;5;241m.\u001B[39m__dask_keys__())\n\u001B[1;32m    573\u001B[0m     postcomputes\u001B[38;5;241m.\u001B[39mappend(x\u001B[38;5;241m.\u001B[39m__dask_postcompute__())\n\u001B[0;32m--> 575\u001B[0m results \u001B[38;5;241m=\u001B[39m \u001B[43mschedule\u001B[49m\u001B[43m(\u001B[49m\u001B[43mdsk\u001B[49m\u001B[43m,\u001B[49m\u001B[43m \u001B[49m\u001B[43mkeys\u001B[49m\u001B[43m,\u001B[49m\u001B[43m \u001B[49m\u001B[38;5;241;43m*\u001B[39;49m\u001B[38;5;241;43m*\u001B[39;49m\u001B[43mkwargs\u001B[49m\u001B[43m)\u001B[49m\n\u001B[1;32m    576\u001B[0m \u001B[38;5;28;01mreturn\u001B[39;00m repack([f(r, \u001B[38;5;241m*\u001B[39ma) \u001B[38;5;28;01mfor\u001B[39;00m r, (f, a) \u001B[38;5;129;01min\u001B[39;00m \u001B[38;5;28mzip\u001B[39m(results, postcomputes)])\n",
      "File \u001B[0;32m~/miniconda3/envs/pyxem-dev/lib/python3.10/site-packages/dask/threaded.py:81\u001B[0m, in \u001B[0;36mget\u001B[0;34m(dsk, result, cache, num_workers, pool, **kwargs)\u001B[0m\n\u001B[1;32m     78\u001B[0m     \u001B[38;5;28;01melif\u001B[39;00m \u001B[38;5;28misinstance\u001B[39m(pool, multiprocessing\u001B[38;5;241m.\u001B[39mpool\u001B[38;5;241m.\u001B[39mPool):\n\u001B[1;32m     79\u001B[0m         pool \u001B[38;5;241m=\u001B[39m MultiprocessingPoolExecutor(pool)\n\u001B[0;32m---> 81\u001B[0m results \u001B[38;5;241m=\u001B[39m \u001B[43mget_async\u001B[49m\u001B[43m(\u001B[49m\n\u001B[1;32m     82\u001B[0m \u001B[43m    \u001B[49m\u001B[43mpool\u001B[49m\u001B[38;5;241;43m.\u001B[39;49m\u001B[43msubmit\u001B[49m\u001B[43m,\u001B[49m\n\u001B[1;32m     83\u001B[0m \u001B[43m    \u001B[49m\u001B[43mpool\u001B[49m\u001B[38;5;241;43m.\u001B[39;49m\u001B[43m_max_workers\u001B[49m\u001B[43m,\u001B[49m\n\u001B[1;32m     84\u001B[0m \u001B[43m    \u001B[49m\u001B[43mdsk\u001B[49m\u001B[43m,\u001B[49m\n\u001B[1;32m     85\u001B[0m \u001B[43m    \u001B[49m\u001B[43mresult\u001B[49m\u001B[43m,\u001B[49m\n\u001B[1;32m     86\u001B[0m \u001B[43m    \u001B[49m\u001B[43mcache\u001B[49m\u001B[38;5;241;43m=\u001B[39;49m\u001B[43mcache\u001B[49m\u001B[43m,\u001B[49m\n\u001B[1;32m     87\u001B[0m \u001B[43m    \u001B[49m\u001B[43mget_id\u001B[49m\u001B[38;5;241;43m=\u001B[39;49m\u001B[43m_thread_get_id\u001B[49m\u001B[43m,\u001B[49m\n\u001B[1;32m     88\u001B[0m \u001B[43m    \u001B[49m\u001B[43mpack_exception\u001B[49m\u001B[38;5;241;43m=\u001B[39;49m\u001B[43mpack_exception\u001B[49m\u001B[43m,\u001B[49m\n\u001B[1;32m     89\u001B[0m \u001B[43m    \u001B[49m\u001B[38;5;241;43m*\u001B[39;49m\u001B[38;5;241;43m*\u001B[39;49m\u001B[43mkwargs\u001B[49m\u001B[43m,\u001B[49m\n\u001B[1;32m     90\u001B[0m \u001B[43m\u001B[49m\u001B[43m)\u001B[49m\n\u001B[1;32m     92\u001B[0m \u001B[38;5;66;03m# Cleanup pools associated to dead threads\u001B[39;00m\n\u001B[1;32m     93\u001B[0m \u001B[38;5;28;01mwith\u001B[39;00m pools_lock:\n",
      "File \u001B[0;32m~/miniconda3/envs/pyxem-dev/lib/python3.10/site-packages/dask/local.py:497\u001B[0m, in \u001B[0;36mget_async\u001B[0;34m(submit, num_workers, dsk, result, cache, get_id, rerun_exceptions_locally, pack_exception, raise_exception, callbacks, dumps, loads, chunksize, **kwargs)\u001B[0m\n\u001B[1;32m    495\u001B[0m \u001B[38;5;28;01mwhile\u001B[39;00m state[\u001B[38;5;124m\"\u001B[39m\u001B[38;5;124mwaiting\u001B[39m\u001B[38;5;124m\"\u001B[39m] \u001B[38;5;129;01mor\u001B[39;00m state[\u001B[38;5;124m\"\u001B[39m\u001B[38;5;124mready\u001B[39m\u001B[38;5;124m\"\u001B[39m] \u001B[38;5;129;01mor\u001B[39;00m state[\u001B[38;5;124m\"\u001B[39m\u001B[38;5;124mrunning\u001B[39m\u001B[38;5;124m\"\u001B[39m]:\n\u001B[1;32m    496\u001B[0m     fire_tasks(chunksize)\n\u001B[0;32m--> 497\u001B[0m     \u001B[38;5;28;01mfor\u001B[39;00m key, res_info, failed \u001B[38;5;129;01min\u001B[39;00m \u001B[43mqueue_get\u001B[49m\u001B[43m(\u001B[49m\u001B[43mqueue\u001B[49m\u001B[43m)\u001B[49m\u001B[38;5;241m.\u001B[39mresult():\n\u001B[1;32m    498\u001B[0m         \u001B[38;5;28;01mif\u001B[39;00m failed:\n\u001B[1;32m    499\u001B[0m             exc, tb \u001B[38;5;241m=\u001B[39m loads(res_info)\n",
      "File \u001B[0;32m~/miniconda3/envs/pyxem-dev/lib/python3.10/site-packages/dask/local.py:134\u001B[0m, in \u001B[0;36mqueue_get\u001B[0;34m(q)\u001B[0m\n\u001B[1;32m    133\u001B[0m \u001B[38;5;28;01mdef\u001B[39;00m \u001B[38;5;21mqueue_get\u001B[39m(q):\n\u001B[0;32m--> 134\u001B[0m     \u001B[38;5;28;01mreturn\u001B[39;00m \u001B[43mq\u001B[49m\u001B[38;5;241;43m.\u001B[39;49m\u001B[43mget\u001B[49m\u001B[43m(\u001B[49m\u001B[43m)\u001B[49m\n",
      "File \u001B[0;32m~/miniconda3/envs/pyxem-dev/lib/python3.10/queue.py:171\u001B[0m, in \u001B[0;36mQueue.get\u001B[0;34m(self, block, timeout)\u001B[0m\n\u001B[1;32m    169\u001B[0m \u001B[38;5;28;01melif\u001B[39;00m timeout \u001B[38;5;129;01mis\u001B[39;00m \u001B[38;5;28;01mNone\u001B[39;00m:\n\u001B[1;32m    170\u001B[0m     \u001B[38;5;28;01mwhile\u001B[39;00m \u001B[38;5;129;01mnot\u001B[39;00m \u001B[38;5;28mself\u001B[39m\u001B[38;5;241m.\u001B[39m_qsize():\n\u001B[0;32m--> 171\u001B[0m         \u001B[38;5;28;43mself\u001B[39;49m\u001B[38;5;241;43m.\u001B[39;49m\u001B[43mnot_empty\u001B[49m\u001B[38;5;241;43m.\u001B[39;49m\u001B[43mwait\u001B[49m\u001B[43m(\u001B[49m\u001B[43m)\u001B[49m\n\u001B[1;32m    172\u001B[0m \u001B[38;5;28;01melif\u001B[39;00m timeout \u001B[38;5;241m<\u001B[39m \u001B[38;5;241m0\u001B[39m:\n\u001B[1;32m    173\u001B[0m     \u001B[38;5;28;01mraise\u001B[39;00m \u001B[38;5;167;01mValueError\u001B[39;00m(\u001B[38;5;124m\"\u001B[39m\u001B[38;5;124m'\u001B[39m\u001B[38;5;124mtimeout\u001B[39m\u001B[38;5;124m'\u001B[39m\u001B[38;5;124m must be a non-negative number\u001B[39m\u001B[38;5;124m\"\u001B[39m)\n",
      "File \u001B[0;32m~/miniconda3/envs/pyxem-dev/lib/python3.10/threading.py:320\u001B[0m, in \u001B[0;36mCondition.wait\u001B[0;34m(self, timeout)\u001B[0m\n\u001B[1;32m    318\u001B[0m \u001B[38;5;28;01mtry\u001B[39;00m:    \u001B[38;5;66;03m# restore state no matter what (e.g., KeyboardInterrupt)\u001B[39;00m\n\u001B[1;32m    319\u001B[0m     \u001B[38;5;28;01mif\u001B[39;00m timeout \u001B[38;5;129;01mis\u001B[39;00m \u001B[38;5;28;01mNone\u001B[39;00m:\n\u001B[0;32m--> 320\u001B[0m         \u001B[43mwaiter\u001B[49m\u001B[38;5;241;43m.\u001B[39;49m\u001B[43macquire\u001B[49m\u001B[43m(\u001B[49m\u001B[43m)\u001B[49m\n\u001B[1;32m    321\u001B[0m         gotit \u001B[38;5;241m=\u001B[39m \u001B[38;5;28;01mTrue\u001B[39;00m\n\u001B[1;32m    322\u001B[0m     \u001B[38;5;28;01melse\u001B[39;00m:\n",
      "\u001B[0;31mKeyboardInterrupt\u001B[0m: "
     ]
    }
   ],
   "source": [
    "binned_shifted_s.plot(norm='symlog')"
   ]
  },
  {
   "cell_type": "markdown",
   "id": "f9718da4-ca00-4eaf-b239-22c13854169f",
   "metadata": {
    "pycharm": {
     "name": "#%% md\n"
    }
   },
   "source": [
    "Extract the current diffraction pattern"
   ]
  },
  {
   "cell_type": "code",
   "execution_count": 98,
   "id": "3471d67b-a4d0-4194-910e-315a1f5b9022",
   "metadata": {
    "pycharm": {
     "name": "#%%\n"
    }
   },
   "outputs": [],
   "source": [
    "image = binned_shifted_s.inav[binned_shifted_s.axes_manager.indices]\n",
    "image.plot(norm='symlog')"
   ]
  },
  {
   "cell_type": "markdown",
   "id": "5c8746c1-2b53-4d81-8446-315b195c8e4a",
   "metadata": {
    "pycharm": {
     "name": "#%% md\n"
    }
   },
   "source": [
    "Find blobs in the current diffraction pattern and compare the mask to the maximum through stack image. Adjust `threshold` and `minimum_r` to get satisfactory masks for the direct beam and the other masks."
   ]
  },
  {
   "cell_type": "code",
   "execution_count": 226,
   "id": "59bb8536-d7da-49c9-8736-93046983845b",
   "metadata": {
    "pycharm": {
     "name": "#%%\n"
    }
   },
   "outputs": [
    {
     "name": "stdout",
     "output_type": "stream",
     "text": [
      "Adding mask with radius 5 at (64.0, 64.0)\n",
      "Adding mask with radius 5 at (51.0, 41.0)\n",
      "Adding mask with radius 5 at (86.0, 51.0)\n",
      "Adding mask with radius 5 at (76.0, 86.0)\n",
      "Adding mask with radius 5 at (41.0, 77.0)\n",
      "Adding mask with radius 5 at (74.0, 28.0)\n",
      "Adding mask with radius 5 at (99.0, 73.0)\n",
      "Adding mask with radius 5 at (29.0, 54.0)\n",
      "Adding mask with radius 5 at (54.0, 99.0)\n",
      "Adding mask with radius 5 at (6.0, 67.0)\n",
      "Adding mask with radius 5 at (67.0, 121.0)\n",
      "Adding mask with radius 5 at (32.0, 112.0)\n",
      "Adding mask with radius 5 at (89.0, 109.0)\n",
      "Adding mask with radius 5 at (96.0, 16.0)\n",
      "Adding mask with radius 5 at (19.0, 90.0)\n",
      "Adding mask with radius 5 at (16.0, 32.0)\n",
      "Adding mask with radius 5 at (61.0, 7.0)\n",
      "Adding mask with radius 5 at (109.0, 38.0)\n",
      "Adding mask with radius 5 at (39.0, 19.0)\n",
      "Adding mask with radius 5 at (111.0, 96.0)\n",
      "Adding mask with radius 5 at (9.0, 127.0)\n",
      "Adding mask with radius 5 at (122.0, 60.0)\n",
      "Adding mask with radius 5 at (5.0, 10.0)\n"
     ]
    }
   ],
   "source": [
    "minimum_r = 5\n",
    "threshold = 1E-18\n",
    "\n",
    "blobs = blob_log(image.data, min_sigma=1, max_sigma=15, num_sigma=100, overlap=0, threshold=threshold)\n",
    "nx, ny = maximums.axes_manager.signal_shape\n",
    "mask = np.zeros((nx, ny), dtype=bool)\n",
    "direct_beam_mask = np.zeros((nx, ny), dtype=bool)\n",
    "xs = np.arange(0, nx)\n",
    "ys = np.arange(0, ny)\n",
    "X, Y = np.meshgrid(xs, ys)\n",
    "for blob in blobs:\n",
    "    y, x, r = blob\n",
    "    r = np.sqrt(2)*r\n",
    "    r = max([minimum_r, r])\n",
    "    print(f'Adding mask with radius {r} at ({x}, {y})')\n",
    "    R = np.sqrt((X-x)**2 + (Y-y)**2)\n",
    "    if nx//2-2<=x<=nx//2+2 and ny//2-2<=y<=ny//2+2:\n",
    "        direct_beam_mask[R<=r] = True\n",
    "    else:\n",
    "        mask[R<=r] = True\n",
    "        \n",
    "direct_beam_mask = ~direct_beam_mask\n",
    "mask = ~mask\n",
    "if len(blobs) >0:\n",
    "    fig, ax = plt.subplots(nrows=2, ncols=2, sharex=True, sharey=True)\n",
    "    ax[0, 0].imshow(mask, cmap='RdBu')\n",
    "    ax[1, 0].imshow(direct_beam_mask, cmap='RdBu')\n",
    "    ax[0, 1].imshow(mask*maximums.data, norm=SymLogNorm(0.03))\n",
    "    ax[1, 1].imshow(direct_beam_mask*maximums.data, norm=SymLogNorm(0.03))"
   ]
  },
  {
   "cell_type": "code",
   "execution_count": 51,
   "id": "8fec6420-c1cb-4d36-bba9-dd12178a7eb5",
   "metadata": {
    "pycharm": {
     "name": "#%%\n"
    }
   },
   "outputs": [],
   "source": [
    "binned_shifted_s.metadata.add_dictionary({'Preprocessing': {'Masks': {'Diffraction': {'direct_beam': direct_beam_mask, 'reflections': mask}}}})"
   ]
  },
  {
   "cell_type": "markdown",
   "id": "8eeceb7d-d7d3-46af-b2d5-fd33ee131579",
   "metadata": {
    "pycharm": {
     "name": "#%% md\n"
    }
   },
   "source": [
    "## Masking navigation space"
   ]
  },
  {
   "cell_type": "markdown",
   "id": "44cf61b5-acc3-4f16-986b-c73e36b70dae",
   "metadata": {
    "pycharm": {
     "name": "#%% md\n"
    }
   },
   "source": [
    "Mask out bad or uninteresting areas in navigation space. Run parts of this code several times to add more areas to the mask"
   ]
  },
  {
   "cell_type": "markdown",
   "id": "19b8e9f5-e6cb-4455-b640-d7c9f123169b",
   "metadata": {
    "pycharm": {
     "name": "#%% md\n"
    }
   },
   "source": [
    "Define empty navigation mask"
   ]
  },
  {
   "cell_type": "code",
   "execution_count": 210,
   "id": "07fb6958-c827-463e-a5cc-65c96eceed19",
   "metadata": {
    "pycharm": {
     "name": "#%%\n"
    }
   },
   "outputs": [],
   "source": [
    "navigation_mask = hs.signals.Signal2D(np.zeros(binned_shifted_s.axes_manager.navigation_shape, dtype=bool)).T\n",
    "for ax in range(2):\n",
    "    navigation_mask.axes_manager[ax].scale = binned_shifted_s.axes_manager[ax].scale\n",
    "    navigation_mask.axes_manager[ax].name = binned_shifted_s.axes_manager[ax].name\n",
    "    navigation_mask.axes_manager[ax].units = binned_shifted_s.axes_manager[ax].units\n",
    "    navigation_mask.axes_manager[ax].offset = binned_shifted_s.axes_manager[ax].offset   "
   ]
  },
  {
   "cell_type": "markdown",
   "id": "9503af30-15d0-4913-a7ff-fdec25c8d8b3",
   "metadata": {
    "pycharm": {
     "name": "#%% md\n"
    }
   },
   "source": [
    "Create simple VBF for visualisation"
   ]
  },
  {
   "cell_type": "code",
   "execution_count": 174,
   "id": "3c3be457-5b76-43d3-b88b-b3d563b1b951",
   "metadata": {
    "pycharm": {
     "name": "#%%\n"
    }
   },
   "outputs": [
    {
     "name": "stdout",
     "output_type": "stream",
     "text": [
      "[########################################] | 100% Completed | 24.3s\n"
     ]
    }
   ],
   "source": [
    "nx, ny = binned_shifted_s.axes_manager.signal_shape\n",
    "vbf = binned_shifted_s.isig[nx//2-16:nx//2+16, ny//2-16:ny//2+16].sum(axis=[-1, -2]).T\n",
    "vbf.compute()"
   ]
  },
  {
   "cell_type": "markdown",
   "id": "33aa4ce3-06b9-4575-a055-50753c244d8d",
   "metadata": {
    "pycharm": {
     "name": "#%% md\n"
    }
   },
   "source": [
    "Plot VBF and adda rectangular widget"
   ]
  },
  {
   "cell_type": "code",
   "execution_count": 179,
   "id": "dca00961-4283-43f5-b82a-ab9883c66e1e",
   "metadata": {
    "pycharm": {
     "name": "#%%\n"
    }
   },
   "outputs": [
    {
     "data": {
      "text/plain": [
       "<hyperspy.drawing._widgets.rectangles.RectangleWidget at 0x7fab81e4bf10>"
      ]
     },
     "execution_count": 179,
     "metadata": {},
     "output_type": "execute_result"
    }
   ],
   "source": [
    "vbf.plot()\n",
    "roi = hs.roi.RectangularROI(*[binned_shifted_s.axes_manager.navigation_extent[i]/2 for i in [0, 2, 1, 3]])\n",
    "roi.add_widget(vbf)"
   ]
  },
  {
   "cell_type": "markdown",
   "id": "508e2f51-a935-42ab-ae4a-714aafebcb9c",
   "metadata": {
    "pycharm": {
     "name": "#%% md\n"
    }
   },
   "source": [
    "Move widget to a part you want to mask out, and adjust its size. Run the next cell to add the ROI to the mask"
   ]
  },
  {
   "cell_type": "code",
   "execution_count": 223,
   "id": "147a5cb8-70c9-4d35-971e-9744e92c092a",
   "metadata": {
    "pycharm": {
     "name": "#%%\n"
    }
   },
   "outputs": [],
   "source": [
    "navigation_mask.inav[roi.left:roi.right, roi.top:roi.bottom] = True\n",
    "navigation_mask.plot()"
   ]
  },
  {
   "cell_type": "markdown",
   "id": "a4b8bf12-bef9-4625-9020-3e4093b98e2a",
   "metadata": {
    "pycharm": {
     "name": "#%% md\n"
    }
   },
   "source": [
    "Add the navigation mask to the metadata"
   ]
  },
  {
   "cell_type": "code",
   "execution_count": 53,
   "id": "a33965d7-9773-40da-9f0b-c81d1c891000",
   "metadata": {
    "pycharm": {
     "name": "#%%\n"
    }
   },
   "outputs": [],
   "source": [
    "binned_shifted_s.metadata.add_dictionary({'Preprocessing': {'Masks': {'Scan': navigation_mask.data}}})"
   ]
  },
  {
   "cell_type": "markdown",
   "id": "67a42587-e3c0-42ac-92f3-4b4b8df9f712",
   "metadata": {
    "pycharm": {
     "name": "#%% md\n"
    }
   },
   "source": [
    "# Save the preprocessed data"
   ]
  },
  {
   "cell_type": "code",
   "execution_count": null,
   "id": "0511368f-d7f9-456b-8afe-6202d0bc3dd3",
   "metadata": {
    "pycharm": {
     "name": "#%%\n"
    }
   },
   "outputs": [],
   "source": [
    "binned_shifted_s.save(data_path.with_name(f'{data_path.stem}_preprocessed_new.hspy'), overwrite=True, chunks=(32, 32, 32, 32))"
   ]
  },
  {
   "cell_type": "markdown",
   "id": "f2dad912-f876-499b-bdca-420286948cb1",
   "metadata": {
    "pycharm": {
     "name": "#%% md\n"
    }
   },
   "source": [
    "# Load the preprocessed data for inspection and verification"
   ]
  },
  {
   "cell_type": "code",
   "execution_count": 5,
   "id": "f8b92888-3aca-4881-baa4-434a7ebc5b83",
   "metadata": {
    "pycharm": {
     "name": "#%%\n"
    }
   },
   "outputs": [],
   "source": [
    "preprocessed_signal = hs.load(data_path.with_name(f'{data_path.stem}_preprocessed.hspy'), lazy=True)"
   ]
  }
 ],
 "metadata": {
  "kernelspec": {
   "display_name": "Python 3 (ipykernel)",
   "language": "python",
   "name": "python3"
  },
  "language_info": {
   "codemirror_mode": {
    "name": "ipython",
    "version": 3
   },
   "file_extension": ".py",
   "mimetype": "text/x-python",
   "name": "python",
   "nbconvert_exporter": "python",
   "pygments_lexer": "ipython3",
   "version": "3.10.4"
  }
 },
 "nbformat": 4,
 "nbformat_minor": 5
}